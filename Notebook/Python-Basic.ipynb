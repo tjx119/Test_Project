{
 "cells": [
  {
   "cell_type": "code",
   "execution_count": null,
   "metadata": {
    "collapsed": true
   },
   "outputs": [],
   "source": [
    "##!/usr/bin/env python2\n",
    "# -*- coding: UTF-8 -*-\n",
    "\n",
    "#判断是否闰年\n",
    "def leap_year(year):\n",
    "    if year % 4 == 0 and year % 100 != 0:\n",
    "        print '%s是闰年!' % year\n",
    "        return\n",
    "    if year % 100 == 0 and year % 400 == 0:\n",
    "        print '%s是闰年!' % year\n",
    "        return\n",
    "    print '%s不是闰年!' % year\n",
    "leap_year(2002)"
   ]
  },
  {
   "cell_type": "code",
   "execution_count": null,
   "metadata": {
    "collapsed": true
   },
   "outputs": [],
   "source": [
    "#枚举函数enumerate()\n",
    "s = [1, 3, 'dasdasdasd']\n",
    "for (index, value) in enumerate(s):\n",
    "    print index\n",
    "    print value"
   ]
  },
  {
   "cell_type": "code",
   "execution_count": null,
   "metadata": {
    "collapsed": true
   },
   "outputs": [],
   "source": [
    "#zip如果你多个等长的序列，然后想要每次循环时从各个序列分别取出一个元素\n",
    "ta = [1,2,3]\n",
    "tb = [9,8,7]\n",
    "tc = ['a','b','c']\n",
    "for (a,b,c) in zip(ta,tb,tc):\n",
    "    print(a,b,c)\n",
    "ziped = zip(ta,tb)\n",
    "print ziped\n",
    "za, zb = zip(*ziped)\n",
    "print za,zb"
   ]
  },
  {
   "cell_type": "code",
   "execution_count": null,
   "metadata": {
    "collapsed": true
   },
   "outputs": [],
   "source": [
    "#生成器(generator)的主要目的是构成一个用户自定义的循环对象\n",
    "def gen(a):\n",
    "    a = a + 1\n",
    "    yield a\n",
    "    a = a * a\n",
    "    yield a\n",
    "    a = a ** a\n",
    "    yield a\n",
    "for i in gen(2):\n",
    "    print i\n",
    "G = (x for x in range(4))\n",
    "for i in G:\n",
    "    print i"
   ]
  },
  {
   "cell_type": "code",
   "execution_count": null,
   "metadata": {
    "collapsed": true
   },
   "outputs": [],
   "source": [
    "#表推导(list comprehension)是快速生成表的方法。它的语法简单，很有实用价值。\n",
    "#普通做法\n",
    "L = []\n",
    "for x in range(10):\n",
    "    L.append(x**2)\n",
    "#表推导做法\n",
    "L = [x ** 2 for x in range(10)]"
   ]
  },
  {
   "cell_type": "code",
   "execution_count": null,
   "metadata": {
    "collapsed": true
   },
   "outputs": [],
   "source": [
    "#lambda匿名函数\n",
    "def func(a, b):\n",
    "    return a + b\n",
    "func = lambda a,b: a + b\n",
    "#以上用法不够好，大多数匿名函数应该作为一个表达式，这样才有意义，不然上面还是给他命名了，作用不大\n",
    "#最常用法，比如放在map里去映射关系，而且函数一般只调用一次，多次调用的函数还是按正常写比较好\n",
    "map(lambda x : x + 1, [1, 2, 3])\n",
    "map((lambda x,y: x + y),[1,2,3],[6,7,9])"
   ]
  },
  {
   "cell_type": "code",
   "execution_count": null,
   "metadata": {
    "collapsed": true
   },
   "outputs": [],
   "source": [
    "#filter()函数,如果函数对象返回的是True，则该次的元素被储存于返回的表中。\n",
    "def func(a):\n",
    "    if a > 100:\n",
    "        return True\n",
    "    else:\n",
    "        return False\n",
    "\n",
    "print filter(func,[10,56,101,500])"
   ]
  },
  {
   "cell_type": "code",
   "execution_count": null,
   "metadata": {
    "collapsed": true
   },
   "outputs": [],
   "source": [
    "#reduce函数的第一个参数也是函数，但有一个要求，就是这个函数自身能接收两个参数。reduce可以累进地将函数作用于各个参数\n",
    "#提醒： reduce()函数在3.0里面不能直接用的，它被定义在了functools包里面，需要引入包。\n",
    "reduce(lambda x,y: x * y, [1, 3, 5, 7])"
   ]
  },
  {
   "cell_type": "code",
   "execution_count": null,
   "metadata": {
    "collapsed": true
   },
   "outputs": [],
   "source": [
    "#异常处理\n",
    "try:\n",
    "    re = iter(range(5))\n",
    "    for i in range(7):\n",
    "        re.next()\n",
    "except StopIteration:\n",
    "    print \"StopIteration error found\"\n",
    "except:\n",
    "    print \"error found\"\n",
    "finally:\n",
    "    print 'always excute'\n",
    "#异常一层层往上抛    \n",
    "def test_func():\n",
    "    try:\n",
    "        m = 1/0\n",
    "    except NameError:\n",
    "        print(\"Catch NameError in the sub-function\")\n",
    "\n",
    "try:\n",
    "    test_func()\n",
    "except ZeroDivisionError:\n",
    "    print(\"Catch error in the main program\")\n",
    "    \n",
    "finally:\n",
    "    print 'always excute'"
   ]
  },
  {
   "cell_type": "code",
   "execution_count": null,
   "metadata": {
    "collapsed": true
   },
   "outputs": [],
   "source": [
    "#自己主动抛出异常\n",
    "#单独raise，意思是往上层抛，自己不处理\n",
    "try:\n",
    "    try:\n",
    "        raise IOError\n",
    "    except IOError:\n",
    "        print \"inner exception\"\n",
    "        raise # <same as raise IOError>\n",
    "except IOError:\n",
    "    print \"outter exception\""
   ]
  },
  {
   "cell_type": "code",
   "execution_count": null,
   "metadata": {
    "collapsed": true
   },
   "outputs": [],
   "source": [
    "#变量只是一个引用的名称，指向内存存放的对象。如果数据对象没有任何引用指向它，它会被系统销毁\n",
    "#b = a的意思，是b指向a指向的对象，而不是引用指向引用。 永远都是reference - > object\n",
    "a = 5\n",
    "b = a\n",
    "a = 's'\n",
    "a, b\n",
    "\n",
    "L1 = [1,2,3]\n",
    "L2 = L1\n",
    "L1 = 1\n",
    "L1, L2"
   ]
  },
  {
   "cell_type": "code",
   "execution_count": null,
   "metadata": {
    "collapsed": true
   },
   "outputs": [],
   "source": [
    "#函数传递的参数是传reference，不是对象。相当于复制了一个引用，而不是复制了一个对象\n",
    "def f(x):\n",
    "    x = 100\n",
    "    print x\n",
    "\n",
    "a = 1\n",
    "f(a)\n",
    "print a"
   ]
  },
  {
   "cell_type": "code",
   "execution_count": null,
   "metadata": {
    "collapsed": true
   },
   "outputs": [],
   "source": [
    "#python深入进阶\n",
    "#特殊方法与多范式\n",
    "#一切皆对象，一切皆对象， 一切皆对象！ \n",
    "#在Python中，a + b, 其实是int对象里面的特殊方法__add__\n",
    "#运算符起到简化书写的功能，但它依靠特殊方法实现。\n",
    "a = 1\n",
    "b = 5\n",
    "a.__add__(b)\n",
    "\n",
    "#相对与__len__()，内置函数len()也起到了简化书写的作用。\n",
    "l = [1, 2, 3]\n",
    "len(l)\n",
    "l.__len__()\n",
    "\n",
    "#list[]也是对象方法调用的简化书写形式\n",
    "li = [1, 2, 3, 4, 5, 6]\n",
    "print(li[3])\n",
    "print(li.__getitem__(3))\n",
    "\n",
    "#在Python中，函数也是一种对象。实际上，任何一个有__call__()特殊方法的对象都被当作是函数。\n",
    "class SampleMore(object):\n",
    "    def __call__(self, a):\n",
    "        return a + 5\n",
    "\n",
    "add = SampleMore()     # A function object\n",
    "print(add(2))          # Call function    \n",
    "map(add, [2, 4, 5])    # Pass around function object\n",
    "dir(map)\n",
    "dir(object)"
   ]
  },
  {
   "cell_type": "code",
   "execution_count": null,
   "metadata": {},
   "outputs": [],
   "source": [
    "#对象的属性储存在对象的__dict__属性中。__dict__为一个词典，键为属性名，对应的值为属性本身。\n",
    "#我们看下面的类和对象。chicken类继承自bird类，而summer为chicken类的一个对象。\n",
    "class bird(object):\n",
    "    feather = True\n",
    "\n",
    "class chicken(bird):\n",
    "    fly = False\n",
    "    def __init__(self, age):\n",
    "        self.age = age\n",
    "\n",
    "summer = chicken(2)\n",
    "\n",
    "print(bird.__dict__)\n",
    "print(chicken.__dict__)\n",
    "print(summer.__dict__)\n",
    "summer.age\n",
    "#下面两种修改属性方法等效\n",
    "summer.__dict__['age'] = 3\n",
    "print(summer.__dict__['age'])\n",
    "\n",
    "summer.age = 5\n",
    "print(summer.age)\n",
    "\n",
    "#实例的对象可以通过__class__找到属于的class。而class可以通过__base__属性找到父类\n",
    "chicken.__base__\n",
    "bird.__base__\n",
    "summer.__class__"
   ]
  },
  {
   "cell_type": "code",
   "execution_count": null,
   "metadata": {},
   "outputs": [],
   "source": [
    "#一个对象里面不同属性有依赖关系的话，可以用property（特性）来定义。\n",
    "class bird(object):\n",
    "    feather = True\n",
    "\n",
    "class chicken(bird):\n",
    "    fly = False\n",
    "    def __init__(self, age):\n",
    "        self.age = age\n",
    "    def getAdult(self):\n",
    "        if self.age > 1.0: return True\n",
    "        else: return False\n",
    "    adult = property(getAdult)   # property is built-in\n",
    "\n",
    "summer = chicken(2)\n",
    "print summer.getAdult()\n",
    "print summer.adult\n",
    "summer.age = 0.5\n",
    "print summer.adult\n",
    "print summer.feather"
   ]
  },
  {
   "cell_type": "code",
   "execution_count": null,
   "metadata": {},
   "outputs": [],
   "source": [
    "#我们可以用__getattr__(self, name)来查询即时生成的属性。\n",
    "#当我们查询一个属性时，如果通过__dict__方法无法找到该属性，\n",
    "#那么Python会调用对象的__getattr__方法，来即时生成该属性。比如:\n",
    "class bird(object):\n",
    "    feather = True\n",
    "\n",
    "class chicken(bird):\n",
    "    fly = False\n",
    "    def __init__(self, age):\n",
    "        self.age = age\n",
    "    def __getattr__(self, name):\n",
    "        if name == 'adult':\n",
    "            if self.age > 1.0: return True\n",
    "            else: return False\n",
    "        else: raise AttributeError(name)\n",
    "\n",
    "summer = chicken(2)\n",
    "\n",
    "print summer.adult\n",
    "summer.age = 0.5\n",
    "print summer.adult\n",
    "summer.male = 1\n",
    "print summer.male\n"
   ]
  },
  {
   "cell_type": "code",
   "execution_count": null,
   "metadata": {},
   "outputs": [],
   "source": [
    "#__getattr__方法的应用\n",
    "class Fjs(object):  \n",
    "    def __init__(self, name):  \n",
    "        self.name = name  \n",
    "        \n",
    "    def hello(self):  \n",
    "        print \"said by : \", self.name  \n",
    "        \n",
    "    def fjs(self, name):  \n",
    "        if name == self.name:  \n",
    "            print \"yes\"  \n",
    "        else:  \n",
    "            print \"no\"  \n",
    "            \n",
    "class Wrap_Fjs(object):  \n",
    "    def __init__(self, fjs):  \n",
    "        self._fjs = fjs    \n",
    "    def __getattr__(self, item):  \n",
    "        if item == \"hello\":  \n",
    "            print \"调用hello方法了\"  \n",
    "        elif item == \"fjs\":  \n",
    "            print \"调用fjs方法了\"  \n",
    "        return getattr(self._fjs, item)  \n",
    "    \n",
    "fjs = Wrap_Fjs(Fjs(\"fjs\"))  \n",
    "fjs.hello()  \n",
    "fjs.fjs(\"fjs\")  "
   ]
  },
  {
   "cell_type": "code",
   "execution_count": null,
   "metadata": {},
   "outputs": [],
   "source": [
    "#作用域\n",
    "#变量作为一个引用名称，要解析到一个作用域。\n",
    "#名称可以同时存在在多个不同的作用域中，在Python的函数中使用名称时，名称解析到具体哪一个作用域，服从下面的规则：\n",
    "#一旦这个函数中存在对某个名称的绑定，则在这个函数中，名称会解析到本函数的作用域\n",
    "#否则，依次考虑更高一层的作用域，直到这个名称会被解析到这个作用域\n",
    "#（或者说，在这一级作用域中，存在对这个名称的绑定） ，或者到达global作用域为止。\n",
    "a = 2\n",
    "def func():\n",
    "    if False:\n",
    "        a = 1  #只要存在定义的语句，a就在函数内的作用域了。就算没执行也一样\n",
    "    return a   # a作用域限制在函数内了，但定义的语句没有被执行，所以会报错。\n",
    "func()\n",
    "#在函数中，要是有变量的定义，那这个变量的作用域就在函数里。如果没有，就去上层找，哪层找到就在哪层作用域起作用。\n",
    "#global可以声明作为全局变量"
   ]
  },
  {
   "cell_type": "code",
   "execution_count": null,
   "metadata": {},
   "outputs": [],
   "source": [
    "#内存管理\n",
    "#整数和短字符串，python会缓存，所以多个引用指向一个对象，is语句结果是一样的\n",
    "a = 1\n",
    "b = 1\n",
    "c = 2\n",
    "#id返回内存地址\n",
    "print id(a)\n",
    "print id(b)\n",
    "print id(c)\n",
    "# True\n",
    "a = 1\n",
    "b = 1\n",
    "print(a is b)\n",
    "\n",
    "# True\n",
    "a = \"good\"\n",
    "b = \"good\"\n",
    "print(a is b)\n",
    "\n",
    "# False\n",
    "a = \"very good morning\"\n",
    "b = \"very good morning\"\n",
    "print(a is b)\n",
    "\n",
    "# False\n",
    "a = []\n",
    "b = []\n",
    "print(a is b)\n",
    "#==和is是不一样的，==比较的是对象的值，is比较的是内存地址\n",
    "# True\n",
    "a = []\n",
    "b = []\n",
    "print(a == b)"
   ]
  },
  {
   "cell_type": "code",
   "execution_count": null,
   "metadata": {},
   "outputs": [],
   "source": [
    "#在Python中，每个对象都有存有指向该对象的引用总数，即引用计数(reference count)。\n",
    "#我们可以使用sys包中的getrefcount()，来查看某个对象的引用计数。\n",
    "#需要注意的是，当使用某个引用作为参数，传递给getrefcount()时，\n",
    "#参数实际上创建了一个临时的引用。因此，getrefcount()所得到的结果，会比期望的多1。\n",
    "from sys import getrefcount\n",
    "\n",
    "a = [1, 2, 3]\n",
    "print(getrefcount([1, 2, 3]))\n",
    "print(getrefcount(a))\n",
    "b = a\n",
    "print(getrefcount(b))"
   ]
  },
  {
   "cell_type": "code",
   "execution_count": null,
   "metadata": {},
   "outputs": [],
   "source": [
    "#string其实是一种特殊的tuple\n",
    "#下面的内置函数可以用于list，tuple，string\n",
    "s = 'dasuhu14'\n",
    "len(s)         #返回： 序列中包含元素的个数\n",
    "min(s)         #返回： 序列中最小的元素\n",
    "max(s)         #返回： 序列中最大的元素\n",
    "all(s)         #返回： True, 如果所有元素都为True的话\n",
    "any(s)         #返回： True, 如果任一元素为True的话\n",
    "l =[1, 2, 3]\n",
    "#下面函数只能用于list和tuple\n",
    "sum(l)         #返回：序列中所有元素的和\n",
    "l.count('a')     #返回： x在s中出现的次数\n",
    "l.index(1)     #返回： x在s中第一次出现的下标\n",
    "\n",
    "#下面方法只适用于list：\n",
    "# l为一个表, l2为另一个表\n",
    "\n",
    "l.extend(l2)        #在表l的末尾添加表l2的所有元素\n",
    "l.append(x)         #在l的末尾附加x元素\n",
    "l.sort()            #对l中的元素排序\n",
    "l.reverse()         #将l中的元素逆序\n",
    "l.pop()             #返回：表l的最后一个元素，并在表l中删除该元素\n",
    "del l[i]            #删除该元素\n",
    "\n",
    "#(以上这些方法都是在原来的表的上进行操作，会对原来的表产生影响，而不是返回一个新表。)"
   ]
  },
  {
   "cell_type": "code",
   "execution_count": null,
   "metadata": {
    "collapsed": true
   },
   "outputs": [],
   "source": [
    "#下面是一些用于字符串的方法。\n",
    "str.count(sub)       #返回：sub在str中出现的次数\n",
    "str.find(sub)        #返回：从左开始，查找sub在str中第一次出现的位置。如果str中不包含sub，返回 -1\n",
    "str.index(sub)       #返回：从左开始，查找sub在str中第一次出现的位置。如果str中不包含sub，举出错误\n",
    "str.rfind(sub)       #返回：从右开始，查找sub在str中第一次出现的位置。如果str中不包含sub，返回 -1\n",
    "str.rindex(sub)      #返回：从右开始，查找sub在str中第一次出现的位置。如果str中不包含sub，举出错误\n",
    "str.isalnum()        #返回：True， 如果所有的字符都是字母或数字\n",
    "str.isalpha()        #返回：True，如果所有的字符都是字母\n",
    "str.isdigit()        #返回：True，如果所有的字符都是数字\n",
    "str.istitle()        #返回：True，如果所有的词的首字母都是大写\n",
    "str.isspace()        #返回：True，如果所有的字符都是空格\n",
    "str.islower()        #返回：True，如果所有的字符都是小写字母\n",
    "str.isupper()        #返回：True，如果所有的字符都是大写字母\n",
    "str.split([sep, [max]])    #返回：从左开始，以空格为分割符(separator)，将str分割为多个子字符串，总共分割max次。将所得的子字符串放在一个表中返回。可以str.split(',')的方式使用逗号或者其它分割符\n",
    "str.rsplit([sep, [max]])   #返回：从右开始，以空格为分割符(separator)，将str分割为多个子字符串，总共分割max次。将所得的子字符串放在一个表中返回。可以str.rsplit(',')的方式使用逗号或者其它分割符\n",
    "str.join(s)                #返回：将s中的元素，以str为分割符，合并成为一个字符串。\n",
    "str.strip([sub])           #返回：去掉字符串开头和结尾的空格。也可以提供参数sub，去掉位于字符串开头和结尾的sub  \n",
    "str.replace(sub, new_sub)  #返回：用一个新的字符串new_sub替换str中的sub\n",
    "str.capitalize()           #返回：将str第一个字母大写\n",
    "str.lower()                #返回：将str全部字母改为小写\n",
    "str.upper()                #返回：将str全部字母改为大写\n",
    "str.swapcase()             #返回：将str大写字母改为小写，小写改为大写\n",
    "str.title()                #返回：将str的每个词(以空格分隔)的首字母大写\n",
    "str.center(width)          #返回：长度为width的字符串，将原字符串放入该字符串中心，其它空余位置为空格。\n",
    "str.ljust(width)           #返回：长度为width的字符串，将原字符串左对齐放入该字符串，其它空余位置为空格。\n",
    "str.rjust(width)           #返回：长度为width的字符串，将原字符串右对齐放入该字符串，其它空余位置为空格。"
   ]
  },
  {
   "cell_type": "code",
   "execution_count": 13,
   "metadata": {},
   "outputs": [],
   "source": [
    "#Python内置函数清单\n",
    "#数学运算\n",
    "abs(-5)                          # 取绝对值，也就是5\n",
    "round(2.6)                       # 四舍五入取整，也就是3.0\n",
    "pow(2, 3)                        # 相当于2**3，如果是pow(2, 3, 5)，相当于2**3 % 5\n",
    "cmp(2.3, 3.2)                    # 比较两个数的大小\n",
    "divmod(9,2)                      # 返回除法结果和余数\n",
    "max([1,5,2,9])                   # 求最大值\n",
    "min([9,2,-4,2])                  # 求最小值\n",
    "sum([2,-1,9,12])                 # 求和\n",
    "#类型转换\n",
    "int(\"5\")                         # 转换为整数 integer\n",
    "float(2)                         # 转换为浮点数 float\n",
    "long(\"23\")                       # 转换为长整数 long integer\n",
    "str(2.3)                         # 转换为字符串 string\n",
    "complex(3, 9)                    # 返回复数 3 + 9i\n",
    "ord(\"A\")                         # \"A\"字符对应的数值\n",
    "chr(65)                          # 数值65对应的字符\n",
    "unichr(65)                       # 数值65对应的unicode字符\n",
    "bool(0)                          # 转换为相应的真假值，在Python中，0相当于False .在Python中，下列对象都相当于False：** [], (), {}, 0, None, 0.0, '' **\n",
    "bin(56)                          # 返回一个字符串，表示56的二进制数\n",
    "hex(56)                          # 返回一个字符串，表示56的十六进制数\n",
    "oct(56)                          # 返回一个字符串，表示56的八进制数\n",
    "list((1,2,3))                    # 转换为表 list\n",
    "tuple([2,3,4])                   # 转换为定值表 tuple\n",
    "slice(5,2,-1)                    # 构建下标对象 slice\n",
    "dict(a=1,b=\"hello\",c=[1,2,3])    # 构建词典 dictionary\n",
    "#list\n",
    "all([True, 1, \"hello!\"])         # 是否所有的元素都相当于True值\n",
    "any([\"\", 0, False, [], None])    # 是否有任意一个元素相当于True值\n",
    "\n",
    "sorted([1,5,3])                  # 返回正序的序列，也就是[1,3,5]\n",
    "reversed([1,5,3])                # 返回反序的序列，也就是[3,5,1]\n",
    "#class\n",
    "# define class\n",
    "class Me(object):\n",
    "    def test(self):\n",
    "        print \"Hello!\"\n",
    "def new_test():\n",
    "    print \"New Hello!\"\n",
    "me = Me()\n",
    "hasattr(me, \"test\")               # 检查me对象是否有test属性\n",
    "getattr(me, \"test\")               # 返回test属性\n",
    "setattr(me, \"test\", new_test)     # 将test属性设置为new_test\n",
    "delattr(me, \"test\")               # 删除test属性\n",
    "isinstance(me, Me)                # me对象是否为Me类生成的对象 (一个instance)\n",
    "issubclass(Me, object)            # Me类是否为object类的子类"
   ]
  },
  {
   "cell_type": "markdown",
   "metadata": {},
   "source": [
    "#正则表达式\n",
    "import re\n",
    "m = re.search('[0-9]','abcd46e6f')\n",
    "print m.group(0)\n",
    "(1)、单个字符:\n",
    ".          任意的一个字符\n",
    "a|b        字符a或字符b\n",
    "[afg]      a或者f或者g的一个字符        \n",
    "[0-4]      0-4范围内的一个字符\n",
    "[a-f]      a-f范围内的一个字符\n",
    "[^m]       不是m的一个字符\n",
    "\\s         一个空格\n",
    "\\S         一个非空格\n",
    "\\d         [0-9]\n",
    "\\D         [^0-9]\n",
    "\\w         [0-9a-zA-Z]\n",
    "\\W         [^0-9a-zA-Z]"
   ]
  },
  {
   "cell_type": "code",
   "execution_count": null,
   "metadata": {
    "collapsed": true
   },
   "outputs": [],
   "source": [
    "#装饰器(decorator)\n",
    "def decorator(F):\n",
    "    def new_F(a, b):\n",
    "        print(\"input\", a, b)\n",
    "        return F(a, b)\n",
    "    return new_F\n",
    "\n",
    "# get square sum\n",
    "@decorator\n",
    "def square_sum(a, b):\n",
    "    return a**2 + b**2\n",
    "\n",
    "# get square diff\n",
    "@decorator\n",
    "def square_diff(a, b):\n",
    "    return a**2 - b**2\n",
    "\n",
    "print(square_sum(3, 4))\n",
    "print(square_diff(3, 4))"
   ]
  },
  {
   "cell_type": "code",
   "execution_count": null,
   "metadata": {
    "collapsed": true
   },
   "outputs": [],
   "source": [
    "#装饰类\n",
    "def decorator(aClass):\n",
    "    class newClass:\n",
    "        def __init__(self, age):\n",
    "            self.total_display   = 0\n",
    "            self.wrapped         = aClass(age)\n",
    "        def display(self):\n",
    "            self.total_display += 1\n",
    "            print(\"total display\", self.total_display)\n",
    "            self.wrapped.display()\n",
    "    return newClass\n",
    "\n",
    "@decorator\n",
    "class Bird:\n",
    "    def __init__(self, age):\n",
    "        self.age = age\n",
    "    def display(self):\n",
    "        print(\"My age is\",self.age)\n",
    "\n",
    "eagleLord = Bird(5)\n",
    "for i in range(3):\n",
    "    eagleLord.display()"
   ]
  }
 ],
 "metadata": {
  "kernelspec": {
   "display_name": "Python 2",
   "language": "python",
   "name": "python2"
  },
  "language_info": {
   "codemirror_mode": {
    "name": "ipython",
    "version": 2
   },
   "file_extension": ".py",
   "mimetype": "text/x-python",
   "name": "python",
   "nbconvert_exporter": "python",
   "pygments_lexer": "ipython2",
   "version": "2.7.13"
  }
 },
 "nbformat": 4,
 "nbformat_minor": 2
}
