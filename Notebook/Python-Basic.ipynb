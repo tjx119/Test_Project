{
 "cells": [
  {
   "cell_type": "code",
   "execution_count": null,
   "metadata": {
    "collapsed": true
   },
   "outputs": [],
   "source": [
    "##!/usr/bin/env python2\n",
    "# -*- coding: UTF-8 -*-\n",
    "\n",
    "#判断是否闰年\n",
    "def leap_year(year):\n",
    "    if year % 4 == 0 and year % 100 != 0:\n",
    "        print '%s是闰年!' % year\n",
    "        return\n",
    "    if year % 100 == 0 and year % 400 == 0:\n",
    "        print '%s是闰年!' % year\n",
    "        return\n",
    "    print '%s不是闰年!' % year\n",
    "leap_year(2002)"
   ]
  },
  {
   "cell_type": "code",
   "execution_count": null,
   "metadata": {
    "collapsed": true
   },
   "outputs": [],
   "source": [
    "#枚举函数enumerate()\n",
    "s = [1, 3, 'dasdasdasd']\n",
    "for (index, value) in enumerate(s):\n",
    "    print index\n",
    "    print value"
   ]
  },
  {
   "cell_type": "code",
   "execution_count": null,
   "metadata": {
    "collapsed": true
   },
   "outputs": [],
   "source": [
    "#zip如果你多个等长的序列，然后想要每次循环时从各个序列分别取出一个元素\n",
    "ta = [1,2,3]\n",
    "tb = [9,8,7]\n",
    "tc = ['a','b','c']\n",
    "for (a,b,c) in zip(ta,tb,tc):\n",
    "    print(a,b,c)\n",
    "ziped = zip(ta,tb)\n",
    "print ziped\n",
    "za, zb = zip(*ziped)\n",
    "print za,zb"
   ]
  },
  {
   "cell_type": "code",
   "execution_count": null,
   "metadata": {
    "collapsed": true
   },
   "outputs": [],
   "source": [
    "#生成器(generator)的主要目的是构成一个用户自定义的循环对象\n",
    "def gen(a):\n",
    "    a = a + 1\n",
    "    yield a\n",
    "    a = a * a\n",
    "    yield a\n",
    "    a = a ** a\n",
    "    yield a\n",
    "for i in gen(2):\n",
    "    print i\n",
    "G = (x for x in range(4))\n",
    "for i in G:\n",
    "    print i"
   ]
  },
  {
   "cell_type": "code",
   "execution_count": null,
   "metadata": {
    "collapsed": true
   },
   "outputs": [],
   "source": [
    "#表推导(list comprehension)是快速生成表的方法。它的语法简单，很有实用价值。\n",
    "#普通做法\n",
    "L = []\n",
    "for x in range(10):\n",
    "    L.append(x**2)\n",
    "#表推导做法\n",
    "L = [x ** 2 for x in range(10)]"
   ]
  },
  {
   "cell_type": "code",
   "execution_count": null,
   "metadata": {
    "collapsed": true
   },
   "outputs": [],
   "source": [
    "#lambda匿名函数\n",
    "def func(a, b):\n",
    "    return a + b\n",
    "func = lambda a,b: a + b\n",
    "#以上用法不够好，大多数匿名函数应该作为一个表达式，这样才有意义，不然上面还是给他命名了，作用不大\n",
    "#最常用法，比如放在map里去映射关系，而且函数一般只调用一次，多次调用的函数还是按正常写比较好\n",
    "map(lambda x : x + 1, [1, 2, 3])\n",
    "map((lambda x,y: x + y),[1,2,3],[6,7,9])"
   ]
  },
  {
   "cell_type": "code",
   "execution_count": null,
   "metadata": {
    "collapsed": true
   },
   "outputs": [],
   "source": [
    "#filter()函数,如果函数对象返回的是True，则该次的元素被储存于返回的表中。\n",
    "def func(a):\n",
    "    if a > 100:\n",
    "        return True\n",
    "    else:\n",
    "        return False\n",
    "\n",
    "print filter(func,[10,56,101,500])"
   ]
  },
  {
   "cell_type": "code",
   "execution_count": null,
   "metadata": {
    "collapsed": true
   },
   "outputs": [],
   "source": [
    "#reduce函数的第一个参数也是函数，但有一个要求，就是这个函数自身能接收两个参数。reduce可以累进地将函数作用于各个参数\n",
    "#提醒： reduce()函数在3.0里面不能直接用的，它被定义在了functools包里面，需要引入包。\n",
    "reduce(lambda x,y: x * y, [1, 3, 5, 7])"
   ]
  },
  {
   "cell_type": "code",
   "execution_count": null,
   "metadata": {
    "collapsed": true
   },
   "outputs": [],
   "source": [
    "#异常处理\n",
    "try:\n",
    "    re = iter(range(5))\n",
    "    for i in range(7):\n",
    "        re.next()\n",
    "except StopIteration:\n",
    "    print \"StopIteration error found\"\n",
    "except:\n",
    "    print \"error found\"\n",
    "finally:\n",
    "    print 'always excute'\n",
    "#异常一层层往上抛    \n",
    "def test_func():\n",
    "    try:\n",
    "        m = 1/0\n",
    "    except NameError:\n",
    "        print(\"Catch NameError in the sub-function\")\n",
    "\n",
    "try:\n",
    "    test_func()\n",
    "except ZeroDivisionError:\n",
    "    print(\"Catch error in the main program\")\n",
    "    \n",
    "finally:\n",
    "    print 'always excute'"
   ]
  },
  {
   "cell_type": "code",
   "execution_count": null,
   "metadata": {
    "collapsed": true
   },
   "outputs": [],
   "source": [
    "#自己主动抛出异常\n",
    "#单独raise，意思是往上层抛，自己不处理\n",
    "try:\n",
    "    try:\n",
    "        raise IOError\n",
    "    except IOError:\n",
    "        print \"inner exception\"\n",
    "        raise # <same as raise IOError>\n",
    "except IOError:\n",
    "    print \"outter exception\""
   ]
  },
  {
   "cell_type": "code",
   "execution_count": null,
   "metadata": {
    "collapsed": true
   },
   "outputs": [],
   "source": [
    "#变量只是一个引用的名称，指向内存存放的对象。如果数据对象没有任何引用指向它，它会被系统销毁\n",
    "#b = a的意思，是b指向a指向的对象，而不是引用指向引用。 永远都是reference - > object\n",
    "a = 5\n",
    "b = a\n",
    "a = 's'\n",
    "a, b\n",
    "\n",
    "L1 = [1,2,3]\n",
    "L2 = L1\n",
    "L1 = 1\n",
    "L1, L2"
   ]
  },
  {
   "cell_type": "code",
   "execution_count": null,
   "metadata": {
    "collapsed": true
   },
   "outputs": [],
   "source": [
    "#函数传递的参数是传reference，不是对象。相当于复制了一个引用，而不是复制了一个对象\n",
    "def f(x):\n",
    "    x = 100\n",
    "    print x\n",
    "\n",
    "a = 1\n",
    "f(a)\n",
    "print a"
   ]
  },
  {
   "cell_type": "code",
   "execution_count": null,
   "metadata": {
    "collapsed": true
   },
   "outputs": [],
   "source": [
    "#python深入进阶\n",
    "#特殊方法与多范式\n",
    "#一切皆对象，一切皆对象， 一切皆对象！ \n",
    "#在Python中，a + b, 其实是int对象里面的特殊方法__add__\n",
    "#运算符起到简化书写的功能，但它依靠特殊方法实现。\n",
    "a = 1\n",
    "b = 5\n",
    "a.__add__(b)\n",
    "\n",
    "#相对与__len__()，内置函数len()也起到了简化书写的作用。\n",
    "l = [1, 2, 3]\n",
    "len(l)\n",
    "l.__len__()\n",
    "\n",
    "#list[]也是对象方法调用的简化书写形式\n",
    "li = [1, 2, 3, 4, 5, 6]\n",
    "print(li[3])\n",
    "print(li.__getitem__(3))\n",
    "\n",
    "#在Python中，函数也是一种对象。实际上，任何一个有__call__()特殊方法的对象都被当作是函数。\n",
    "class SampleMore(object):\n",
    "    def __call__(self, a):\n",
    "        return a + 5\n",
    "\n",
    "add = SampleMore()     # A function object\n",
    "print(add(2))          # Call function    \n",
    "map(add, [2, 4, 5])    # Pass around function object\n",
    "dir(map)\n",
    "dir(object)"
   ]
  },
  {
   "cell_type": "code",
   "execution_count": 13,
   "metadata": {},
   "outputs": [
    {
     "name": "stdout",
     "output_type": "stream",
     "text": [
      "{'__dict__': <attribute '__dict__' of 'bird' objects>, '__module__': '__main__', '__weakref__': <attribute '__weakref__' of 'bird' objects>, 'feather': True, '__doc__': None}\n",
      "{'fly': False, '__module__': '__main__', '__doc__': None, '__init__': <function __init__ at 0x03CAEC70>}\n",
      "{'age': 2}\n",
      "3\n",
      "5\n"
     ]
    },
    {
     "data": {
      "text/plain": [
       "__main__.chicken"
      ]
     },
     "execution_count": 13,
     "metadata": {},
     "output_type": "execute_result"
    }
   ],
   "source": [
    "#对象的属性储存在对象的__dict__属性中。__dict__为一个词典，键为属性名，对应的值为属性本身。\n",
    "#我们看下面的类和对象。chicken类继承自bird类，而summer为chicken类的一个对象。\n",
    "class bird(object):\n",
    "    feather = True\n",
    "\n",
    "class chicken(bird):\n",
    "    fly = False\n",
    "    def __init__(self, age):\n",
    "        self.age = age\n",
    "\n",
    "summer = chicken(2)\n",
    "\n",
    "print(bird.__dict__)\n",
    "print(chicken.__dict__)\n",
    "print(summer.__dict__)\n",
    "summer.age\n",
    "#下面两种修改属性方法等效\n",
    "summer.__dict__['age'] = 3\n",
    "print(summer.__dict__['age'])\n",
    "\n",
    "summer.age = 5\n",
    "print(summer.age)\n",
    "\n",
    "#实例的对象可以通过__class__找到属于的class。而class可以通过__base__属性找到父类\n",
    "chicken.__base__\n",
    "bird.__base__\n",
    "summer.__class__"
   ]
  },
  {
   "cell_type": "code",
   "execution_count": 17,
   "metadata": {},
   "outputs": [
    {
     "name": "stdout",
     "output_type": "stream",
     "text": [
      "True\n",
      "True\n",
      "False\n",
      "1\n"
     ]
    }
   ],
   "source": [
    "#一个对象里面不同属性有依赖关系的话，可以用property（特性）来定义。\n",
    "class bird(object):\n",
    "    feather = True\n",
    "\n",
    "class chicken(bird):\n",
    "    fly = False\n",
    "    def __init__(self, age):\n",
    "        self.age = age\n",
    "    def getAdult(self):\n",
    "        if self.age > 1.0: return True\n",
    "        else: return False\n",
    "    adult = property(getAdult)   # property is built-in\n",
    "\n",
    "summer = chicken(2)\n",
    "print summer.getAdult()\n",
    "print summer.adult\n",
    "summer.age = 0.5\n",
    "print summer.adult\n",
    "print summer.feather"
   ]
  },
  {
   "cell_type": "code",
   "execution_count": 21,
   "metadata": {},
   "outputs": [
    {
     "name": "stdout",
     "output_type": "stream",
     "text": [
      "True\n",
      "False\n",
      "1\n"
     ]
    }
   ],
   "source": [
    "#我们可以用__getattr__(self, name)来查询即时生成的属性。\n",
    "#当我们查询一个属性时，如果通过__dict__方法无法找到该属性，\n",
    "#那么Python会调用对象的__getattr__方法，来即时生成该属性。比如:\n",
    "class bird(object):\n",
    "    feather = True\n",
    "\n",
    "class chicken(bird):\n",
    "    fly = False\n",
    "    def __init__(self, age):\n",
    "        self.age = age\n",
    "    def __getattr__(self, name):\n",
    "        if name == 'adult':\n",
    "            if self.age > 1.0: return True\n",
    "            else: return False\n",
    "        else: raise AttributeError(name)\n",
    "\n",
    "summer = chicken(2)\n",
    "\n",
    "print summer.adult\n",
    "summer.age = 0.5\n",
    "print summer.adult\n",
    "summer.male = 1\n",
    "print summer.male\n"
   ]
  },
  {
   "cell_type": "code",
   "execution_count": 25,
   "metadata": {},
   "outputs": [
    {
     "name": "stdout",
     "output_type": "stream",
     "text": [
      "调用hello方法了\n",
      "said by :  fjs\n",
      "调用fjs方法了\n",
      "yes\n"
     ]
    }
   ],
   "source": [
    "#__getattr__方法的应用\n",
    "class Fjs(object):  \n",
    "    def __init__(self, name):  \n",
    "        self.name = name  \n",
    "        \n",
    "    def hello(self):  \n",
    "        print \"said by : \", self.name  \n",
    "        \n",
    "    def fjs(self, name):  \n",
    "        if name == self.name:  \n",
    "            print \"yes\"  \n",
    "        else:  \n",
    "            print \"no\"  \n",
    "            \n",
    "class Wrap_Fjs(object):  \n",
    "    def __init__(self, fjs):  \n",
    "        self._fjs = fjs    \n",
    "    def __getattr__(self, item):  \n",
    "        if item == \"hello\":  \n",
    "            print \"调用hello方法了\"  \n",
    "        elif item == \"fjs\":  \n",
    "            print \"调用fjs方法了\"  \n",
    "        return getattr(self._fjs, item)  \n",
    "    \n",
    "fjs = Wrap_Fjs(Fjs(\"fjs\"))  \n",
    "fjs.hello()  \n",
    "fjs.fjs(\"fjs\")  "
   ]
  },
  {
   "cell_type": "code",
   "execution_count": 29,
   "metadata": {},
   "outputs": [
    {
     "data": {
      "text/plain": [
       "2"
      ]
     },
     "execution_count": 29,
     "metadata": {},
     "output_type": "execute_result"
    }
   ],
   "source": [
    "#作用域\n",
    "#变量作为一个引用名称，要解析到一个作用域。\n",
    "#名称可以同时存在在多个不同的作用域中，在Python的函数中使用名称时，名称解析到具体哪一个作用域，服从下面的规则：\n",
    "#一旦这个函数中存在对某个名称的绑定，则在这个函数中，名称会解析到本函数的作用域\n",
    "#否则，依次考虑更高一层的作用域，直到这个名称会被解析到这个作用域\n",
    "#（或者说，在这一级作用域中，存在对这个名称的绑定） ，或者到达global作用域为止。\n",
    "a = 2\n",
    "def func():\n",
    "    if False:\n",
    "        a = 1  #只要存在定义的语句，a就在函数内的作用域了。就算没执行也一样\n",
    "    return a   # a作用域限制在函数内了，但定义的语句没有被执行，所以会报错。\n",
    "func()\n",
    "#在函数中，要是有变量的定义，那这个变量的作用域就在函数里。如果没有，就去上层找，哪层找到就在哪层作用域起作用。\n",
    "#global可以声明作为全局变量"
   ]
  },
  {
   "cell_type": "code",
   "execution_count": 37,
   "metadata": {},
   "outputs": [
    {
     "name": "stdout",
     "output_type": "stream",
     "text": [
      "36468368\n",
      "36468368\n",
      "36468356\n",
      "True\n",
      "True\n",
      "False\n",
      "False\n",
      "True\n"
     ]
    }
   ],
   "source": [
    "#内存管理\n",
    "#整数和短字符串，python会缓存，所以多个引用指向一个对象，is语句结果是一样的\n",
    "a = 1\n",
    "b = 1\n",
    "c = 2\n",
    "#id返回内存地址\n",
    "print id(a)\n",
    "print id(b)\n",
    "print id(c)\n",
    "# True\n",
    "a = 1\n",
    "b = 1\n",
    "print(a is b)\n",
    "\n",
    "# True\n",
    "a = \"good\"\n",
    "b = \"good\"\n",
    "print(a is b)\n",
    "\n",
    "# False\n",
    "a = \"very good morning\"\n",
    "b = \"very good morning\"\n",
    "print(a is b)\n",
    "\n",
    "# False\n",
    "a = []\n",
    "b = []\n",
    "print(a is b)\n",
    "#==和is是不一样的，==比较的是对象的值，is比较的是内存地址\n",
    "# True\n",
    "a = []\n",
    "b = []\n",
    "print(a == b)"
   ]
  },
  {
   "cell_type": "code",
   "execution_count": 45,
   "metadata": {},
   "outputs": [
    {
     "name": "stdout",
     "output_type": "stream",
     "text": [
      "1\n",
      "2\n",
      "3\n",
      "1\n"
     ]
    }
   ],
   "source": [
    "#在Python中，每个对象都有存有指向该对象的引用总数，即引用计数(reference count)。\n",
    "#我们可以使用sys包中的getrefcount()，来查看某个对象的引用计数。\n",
    "#需要注意的是，当使用某个引用作为参数，传递给getrefcount()时，\n",
    "#参数实际上创建了一个临时的引用。因此，getrefcount()所得到的结果，会比期望的多1。\n",
    "from sys import getrefcount\n",
    "\n",
    "a = [1, 2, 3]\n",
    "print(getrefcount([1, 2, 3]))\n",
    "print(getrefcount(a))\n",
    "b = a\n",
    "print(getrefcount(b))"
   ]
  }
 ],
 "metadata": {
  "kernelspec": {
   "display_name": "Python 2",
   "language": "python",
   "name": "python2"
  },
  "language_info": {
   "codemirror_mode": {
    "name": "ipython",
    "version": 2
   },
   "file_extension": ".py",
   "mimetype": "text/x-python",
   "name": "python",
   "nbconvert_exporter": "python",
   "pygments_lexer": "ipython2",
   "version": "2.7.13"
  }
 },
 "nbformat": 4,
 "nbformat_minor": 2
}
