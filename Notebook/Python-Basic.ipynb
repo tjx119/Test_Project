{
 "cells": [
  {
   "cell_type": "code",
   "execution_count": null,
   "metadata": {
    "collapsed": true
   },
   "outputs": [],
   "source": [
    "##!/usr/bin/env python2\n",
    "# -*- coding: UTF-8 -*-\n",
    "\n",
    "#判断是否闰年\n",
    "def leap_year(year):\n",
    "    if year % 4 == 0 and year % 100 != 0:\n",
    "        print '%s是闰年!' % year\n",
    "        return\n",
    "    if year % 100 == 0 and year % 400 == 0:\n",
    "        print '%s是闰年!' % year\n",
    "        return\n",
    "    print '%s不是闰年!' % year\n",
    "leap_year(2002)"
   ]
  },
  {
   "cell_type": "code",
   "execution_count": null,
   "metadata": {
    "collapsed": true
   },
   "outputs": [],
   "source": [
    "#枚举函数enumerate()\n",
    "s = [1, 3, 'dasdasdasd']\n",
    "for (index, value) in enumerate(s):\n",
    "    print index\n",
    "    print value"
   ]
  },
  {
   "cell_type": "code",
   "execution_count": null,
   "metadata": {
    "collapsed": true
   },
   "outputs": [],
   "source": [
    "#zip如果你多个等长的序列，然后想要每次循环时从各个序列分别取出一个元素\n",
    "ta = [1,2,3]\n",
    "tb = [9,8,7]\n",
    "tc = ['a','b','c']\n",
    "for (a,b,c) in zip(ta,tb,tc):\n",
    "    print(a,b,c)\n",
    "ziped = zip(ta,tb)\n",
    "print ziped\n",
    "za, zb = zip(*ziped)\n",
    "print za,zb"
   ]
  },
  {
   "cell_type": "code",
   "execution_count": null,
   "metadata": {
    "collapsed": true
   },
   "outputs": [],
   "source": [
    "#生成器(generator)的主要目的是构成一个用户自定义的循环对象\n",
    "def gen(a):\n",
    "    a = a + 1\n",
    "    yield a\n",
    "    a = a * a\n",
    "    yield a\n",
    "    a = a ** a\n",
    "    yield a\n",
    "for i in gen(2):\n",
    "    print i\n",
    "G = (x for x in range(4))\n",
    "for i in G:\n",
    "    print i"
   ]
  },
  {
   "cell_type": "code",
   "execution_count": null,
   "metadata": {
    "collapsed": true
   },
   "outputs": [],
   "source": [
    "#表推导(list comprehension)是快速生成表的方法。它的语法简单，很有实用价值。\n",
    "#普通做法\n",
    "L = []\n",
    "for x in range(10):\n",
    "    L.append(x**2)\n",
    "#表推导做法\n",
    "L = [x ** 2 for x in range(10)]"
   ]
  },
  {
   "cell_type": "code",
   "execution_count": null,
   "metadata": {
    "collapsed": true
   },
   "outputs": [],
   "source": [
    "#lambda匿名函数\n",
    "def func(a, b):\n",
    "    return a + b\n",
    "func = lambda a,b: a + b\n",
    "#以上用法不够好，大多数匿名函数应该作为一个表达式，这样才有意义，不然上面还是给他命名了，作用不大\n",
    "#最常用法，比如放在map里去映射关系，而且函数一般只调用一次，多次调用的函数还是按正常写比较好\n",
    "map(lambda x : x + 1, [1, 2, 3])\n",
    "map((lambda x,y: x + y),[1,2,3],[6,7,9])"
   ]
  },
  {
   "cell_type": "code",
   "execution_count": null,
   "metadata": {
    "collapsed": true
   },
   "outputs": [],
   "source": [
    "#filter()函数,如果函数对象返回的是True，则该次的元素被储存于返回的表中。\n",
    "def func(a):\n",
    "    if a > 100:\n",
    "        return True\n",
    "    else:\n",
    "        return False\n",
    "\n",
    "print filter(func,[10,56,101,500])"
   ]
  },
  {
   "cell_type": "code",
   "execution_count": null,
   "metadata": {
    "collapsed": true
   },
   "outputs": [],
   "source": [
    "#reduce函数的第一个参数也是函数，但有一个要求，就是这个函数自身能接收两个参数。reduce可以累进地将函数作用于各个参数\n",
    "#提醒： reduce()函数在3.0里面不能直接用的，它被定义在了functools包里面，需要引入包。\n",
    "reduce(lambda x,y: x * y, [1, 3, 5, 7])"
   ]
  },
  {
   "cell_type": "code",
   "execution_count": null,
   "metadata": {
    "collapsed": true
   },
   "outputs": [],
   "source": [
    "#异常处理\n",
    "try:\n",
    "    re = iter(range(5))\n",
    "    for i in range(7):\n",
    "        re.next()\n",
    "except StopIteration:\n",
    "    print \"StopIteration error found\"\n",
    "except:\n",
    "    print \"error found\"\n",
    "finally:\n",
    "    print 'always excute'\n",
    "#异常一层层往上抛    \n",
    "def test_func():\n",
    "    try:\n",
    "        m = 1/0\n",
    "    except NameError:\n",
    "        print(\"Catch NameError in the sub-function\")\n",
    "\n",
    "try:\n",
    "    test_func()\n",
    "except ZeroDivisionError:\n",
    "    print(\"Catch error in the main program\")\n",
    "    \n",
    "finally:\n",
    "    print 'always excute'"
   ]
  },
  {
   "cell_type": "code",
   "execution_count": null,
   "metadata": {
    "collapsed": true
   },
   "outputs": [],
   "source": [
    "#自己主动抛出异常\n",
    "#单独raise，意思是往上层抛，自己不处理\n",
    "try:\n",
    "    try:\n",
    "        raise IOError\n",
    "    except IOError:\n",
    "        print \"inner exception\"\n",
    "        raise # <same as raise IOError>\n",
    "except IOError:\n",
    "    print \"outter exception\""
   ]
  },
  {
   "cell_type": "code",
   "execution_count": null,
   "metadata": {
    "collapsed": true
   },
   "outputs": [],
   "source": [
    "#变量只是一个引用的名称，指向内存存放的对象。如果数据对象没有任何引用指向它，它会被系统销毁\n",
    "#b = a的意思，是b指向a指向的对象，而不是引用指向引用。 永远都是reference - > object\n",
    "a = 5\n",
    "b = a\n",
    "a = 's'\n",
    "a, b\n",
    "\n",
    "L1 = [1,2,3]\n",
    "L2 = L1\n",
    "L1 = 1\n",
    "L1, L2"
   ]
  },
  {
   "cell_type": "code",
   "execution_count": null,
   "metadata": {
    "collapsed": true
   },
   "outputs": [],
   "source": [
    "#函数传递的参数是传reference，不是对象。相当于复制了一个引用，而不是复制了一个对象\n",
    "def f(x):\n",
    "    x = 100\n",
    "    print x\n",
    "\n",
    "a = 1\n",
    "f(a)\n",
    "print a"
   ]
  },
  {
   "cell_type": "code",
   "execution_count": null,
   "metadata": {
    "collapsed": true
   },
   "outputs": [],
   "source": [
    "#python深入进阶\n",
    "#特殊方法与多范式\n",
    "#一切皆对象，一切皆对象， 一切皆对象！ \n",
    "#在Python中，a + b, 其实是int对象里面的特殊方法__add__\n",
    "#运算符起到简化书写的功能，但它依靠特殊方法实现。\n",
    "a = 1\n",
    "b = 5\n",
    "a.__add__(b)\n",
    "\n",
    "#相对与__len__()，内置函数len()也起到了简化书写的作用。\n",
    "l = [1, 2, 3]\n",
    "len(l)\n",
    "l.__len__()\n",
    "\n",
    "#list[]也是对象方法调用的简化书写形式\n",
    "li = [1, 2, 3, 4, 5, 6]\n",
    "print(li[3])\n",
    "print(li.__getitem__(3))\n",
    "\n",
    "#在Python中，函数也是一种对象。实际上，任何一个有__call__()特殊方法的对象都被当作是函数。\n",
    "class SampleMore(object):\n",
    "    def __call__(self, a):\n",
    "        return a + 5\n",
    "\n",
    "add = SampleMore()     # A function object\n",
    "print(add(2))          # Call function    \n",
    "map(add, [2, 4, 5])    # Pass around function object\n",
    "dir(map)\n",
    "dir(object)"
   ]
  },
  {
   "cell_type": "code",
   "execution_count": null,
   "metadata": {
    "collapsed": true
   },
   "outputs": [],
   "source": [
    "class bird(object):\n",
    "    feather = True\n",
    "\n",
    "class chicken(bird):\n",
    "    fly = False\n",
    "    def __init__(self, age):\n",
    "        self.age = age\n",
    "\n",
    "summer = chicken(2)\n",
    "\n",
    "#print(bird.__dict__)\n",
    "#print(chicken.__dict__)\n",
    "print(summer.__dict__)\n",
    "(1.8).__mul__(2.0)"
   ]
  },
  {
   "cell_type": "code",
   "execution_count": 139,
   "metadata": {},
   "outputs": [
    {
     "name": "stdout",
     "output_type": "stream",
     "text": [
      "8\n"
     ]
    }
   ],
   "source": [
    "a = 5\n",
    "class func(object):\n",
    "    def __init__(self):\n",
    "        pass\n",
    "    def add(self):\n",
    "        return a + 3\n",
    "    \n",
    "f = func()\n",
    "print f.add()"
   ]
  },
  {
   "cell_type": "code",
   "execution_count": 1,
   "metadata": {},
   "outputs": [
    {
     "name": "stdout",
     "output_type": "stream",
     "text": [
      "True\n",
      "False\n"
     ]
    }
   ],
   "source": [
    "class bird(object):\n",
    "    feather = True\n",
    "\n",
    "class chicken(bird):\n",
    "    fly = False\n",
    "    def __init__(self, age):\n",
    "        self.age = age\n",
    "    def getAdult(self):\n",
    "        if self.age > 1.0: return True\n",
    "        else: return False\n",
    "    adult = property(getAdult)   # property is built-in\n",
    "\n",
    "summer = chicken(2)\n",
    "\n",
    "print(summer.adult)\n",
    "summer.age = 0.5\n",
    "print(summer.adult)"
   ]
  }
 ],
 "metadata": {
  "kernelspec": {
   "display_name": "Python 2",
   "language": "python",
   "name": "python2"
  },
  "language_info": {
   "codemirror_mode": {
    "name": "ipython",
    "version": 2
   },
   "file_extension": ".py",
   "mimetype": "text/x-python",
   "name": "python",
   "nbconvert_exporter": "python",
   "pygments_lexer": "ipython2",
   "version": "2.7.13"
  }
 },
 "nbformat": 4,
 "nbformat_minor": 2
}
