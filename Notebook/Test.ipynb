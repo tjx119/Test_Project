{
 "cells": [
  {
   "cell_type": "code",
   "execution_count": 11,
   "metadata": {
    "collapsed": true
   },
   "outputs": [],
   "source": [
    "class Student(object):\n",
    "    a = 1\n",
    "#    score = 100\n",
    "    def __init__(self, name):\n",
    "        self.name = name\n",
    "        score = 10\n",
    "    def printx(self):\n",
    "        pass\n",
    "class A(Student):\n",
    "    a = 1\n",
    "    score = 100\n",
    "    def __init__(self, name):\n",
    "        self.name = name\n",
    "        score = 10\n",
    "    def printx(self):\n",
    "        print self.name\n",
    "class B(Student):\n",
    "    a = 1\n",
    "    score = 100\n",
    "    def __init__(self, name):\n",
    "        self.name = name\n",
    "        score = 10\n",
    "    def printy(self):\n",
    "        print self.name\n",
    "s = Student('Bob')\n",
    "z = B('jacky')\n",
    "z.printx()"
   ]
  },
  {
   "cell_type": "code",
<<<<<<< HEAD
   "execution_count": null,
   "metadata": {},
   "outputs": [
    {
     "name": "stdout",
     "output_type": "stream",
     "text": [
      "(0, ':now left:', 99)\n",
      "(0, ':now left:', 98)(1, ':now left:', 97)\n",
      "\n",
      "(2, ':now left:', 93)(0, ':now left:', 96)(1, ':now left:', 95)\n",
      "(3, ':now left:', 89)\n",
      "\n",
      "(2, ':now left:', 90)\n",
      "(4, ':now left:', 86)(0, ':now left:', 94)(1, ':now left:', 92)\n",
      "(3, ':now left:', 84)\n",
      "(5, ':now left:', 83)(6, ':now left:', 80)(7, ':now left:', 78)(8, ':now left:', 75)(9, ':now left:', 71)\n",
      "\n",
      "(2, ':now left:', 85)\n",
      "(4, ':now left:', 79)\n",
      "\n",
      "\n",
      "\n",
      "\n",
      "(0, ':now left:', 91)(1, ':now left:', 88)\n",
      "(3, ':now left:', 76)\n",
      "(5, ':now left:', 74)(6, ':now left:', 70)(7, ':now left:', 68)(8, ':now left:', 65)(9, ':now left:', 61)\n",
      "\n",
      "(2, ':now left:', 77)(4, ':now left:', 69)\n",
      "\n",
      "\n",
      "\n",
      "\n",
      "(0, ':now left:', 87)(1, ':now left:', 82)\n",
      "\n",
      "\n",
      "(5, ':now left:', 64)(6, ':now left:', 60)"
     ]
    }
   ],
   "source": [
    "\n",
    "import threading\n",
    "import time\n",
    "import os\n",
    "\n",
    "# This function could be any function to do other chores.\n",
    "def doChore():\n",
    "    time.sleep(0.5)\n",
    "\n",
    "# Function for each thread\n",
    "def booth(tid):\n",
    "    global i\n",
    "    global lock\n",
    "    while True:\n",
    "        lock.acquire()                # Lock; or wait if other thread is holding the lock\n",
    "        if i != 0:\n",
    "            i = i - 1                 # Sell tickets\n",
    "            print(tid,':now left:',i) # Tickets left\n",
    "            doChore()                 # Other critical operations\n",
    "        else:\n",
    "            print(\"Thread_id\",tid,\" No more tickets\")\n",
    "            os._exit(0)              # Exit the whole process immediately\n",
    "        lock.release()               # Unblock\n",
    "        doChore()                    # Non-critical operations\n",
    "\n",
    "# Start of the main function\n",
    "i    = 100                           # Available ticket number \n",
    "lock = threading.Lock()              # Lock (i.e., mutex)\n",
    "\n",
    "# Start 10 threads\n",
    "for k in range(10):\n",
    "    new_thread = threading.Thread(target=booth,args=(k,))   # Set up thread; target: the callable (function) to be run, args: the argument for the callable \n",
    "    new_thread.start()    "
   ]
  },
  {
   "cell_type": "code",
   "execution_count": 3,
   "metadata": {},
   "outputs": [
    {
     "name": "stdout",
     "output_type": "stream",
     "text": [
      "Parent process 324.\n",
      "Child process will start.\n",
      "Child process end.\n"
     ]
    }
   ],
   "source": [
    "from multiprocessing import Process\n",
    "import os\n",
    "\n",
    "# 子进程要执行的代码\n",
    "def run_proc(name):\n",
    "    print('Run child process %s (%s)...' % (name, os.getpid()))\n",
    "\n",
    "if __name__=='__main__':\n",
    "    print('Parent process %s.' % os.getpid())\n",
    "    p = Process(target=run_proc, args=('test',))\n",
    "    print('Child process will start.')\n",
    "    p.start()\n",
    "    p.join()\n",
    "    print('Child process end.')"
=======
   "execution_count": 11,
   "metadata": {},
   "outputs": [
    {
     "data": {
      "text/plain": [
       "'dada'"
      ]
     },
     "execution_count": 11,
     "metadata": {},
     "output_type": "execute_result"
    }
   ],
   "source": [
    "s = 'dasdasdas'\n",
    "s = s[0:2] + s[-3:-1]\n",
    "s"
>>>>>>> 2eff8f6efb19ebfa822dd004f8254c86a9c463f7
   ]
  }
 ],
 "metadata": {
  "kernelspec": {
   "display_name": "Python 2",
   "language": "python",
   "name": "python2"
  },
  "language_info": {
   "codemirror_mode": {
    "name": "ipython",
    "version": 2
   },
   "file_extension": ".py",
   "mimetype": "text/x-python",
   "name": "python",
   "nbconvert_exporter": "python",
   "pygments_lexer": "ipython2",
   "version": "2.7.13"
  }
 },
 "nbformat": 4,
 "nbformat_minor": 2
}
