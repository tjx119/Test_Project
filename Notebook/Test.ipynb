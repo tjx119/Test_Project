{
 "cells": [
  {
   "cell_type": "code",
   "execution_count": 11,
   "metadata": {},
   "outputs": [],
   "source": [
    "class Student(object):\n",
    "    a = 1\n",
    "#    score = 100\n",
    "    def __init__(self, name):\n",
    "        self.name = name\n",
    "        score = 10\n",
    "    def printx(self):\n",
    "        pass\n",
    "class A(Student):\n",
    "    a = 1\n",
    "    score = 100\n",
    "    def __init__(self, name):\n",
    "        self.name = name\n",
    "        score = 10\n",
    "    def printx(self):\n",
    "        print self.name\n",
    "class B(Student):\n",
    "    a = 1\n",
    "    score = 100\n",
    "    def __init__(self, name):\n",
    "        self.name = name\n",
    "        score = 10\n",
    "    def printy(self):\n",
    "        print self.name\n",
    "s = Student('Bob')\n",
    "z = B('jacky')\n",
    "z.printx()"
   ]
  }
 ],
 "metadata": {
  "kernelspec": {
   "display_name": "Python 2",
   "language": "python",
   "name": "python2"
  },
  "language_info": {
   "codemirror_mode": {
    "name": "ipython",
    "version": 2
   },
   "file_extension": ".py",
   "mimetype": "text/x-python",
   "name": "python",
   "nbconvert_exporter": "python",
   "pygments_lexer": "ipython2",
   "version": "2.7.13"
  }
 },
 "nbformat": 4,
 "nbformat_minor": 2
}
