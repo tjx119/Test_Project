{
 "cells": [
  {
   "cell_type": "code",
   "execution_count": null,
   "metadata": {
    "collapsed": true
   },
   "outputs": [],
   "source": [
    "#!/usr/bin/env python2\n",
    "# -*- coding: UTF-8 -*-\n",
    "import pandas as pd\n",
    "from pandas import DataFrame, Series\n",
    "import matplotlib as mat\n",
    "%matplotlib inline\n",
    "csv_path = 'e:/Test_Data/salesdata(0301-0731).csv'\n",
    "sales = pd.read_csv(csv_path, encoding='GBK', skiprows=6, skipfooter=0)\n",
    "\n",
    "del sales[u'行号']\n",
    "#sales.set_index(u'商品编号', inplace=True)\n",
    "sales.dtypes\n",
    "#sales.head()\n",
    "\n",
    "sales[(sales[u'销售出库数量'] == 0) & (sales[u'销售退货数量'] == 0)]\n",
    "\n",
    "sales.columns = ['Date', 'ProdID', 'ProdSKU', 'ProdName', 'WareHouse', 'CustName', 'Staff', 'ReturnedNO', 'SalesNO', 'Price', 'TotalAmout']\n",
    "\n",
    "customer_sales = sales.groupby('CustName').SalesNO.sum()\n",
    "customer_sales.sort_values(ascending=False)\n",
    "\n",
    "sales_jul = sales[(sales.Date >= '2017-7-1')].groupby('CustName').SalesNO.sum()\n",
    "sales_jul = sales_jul[sales_jul.values > sales_jul.values.mean()]\n",
    "sales_jul.plot(kind='bar')"
   ]
  }
 ],
 "metadata": {
  "kernelspec": {
   "display_name": "Python 2",
   "language": "python",
   "name": "python2"
  },
  "language_info": {
   "codemirror_mode": {
    "name": "ipython",
    "version": 2
   },
   "file_extension": ".py",
   "mimetype": "text/x-python",
   "name": "python",
   "nbconvert_exporter": "python",
   "pygments_lexer": "ipython2",
   "version": "2.7.13"
  }
 },
 "nbformat": 4,
 "nbformat_minor": 1
}
